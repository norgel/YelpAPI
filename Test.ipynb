{
 "cells": [
  {
   "cell_type": "markdown",
   "id": "c7bdc599",
   "metadata": {},
   "source": [
    "### Install yelpapi"
   ]
  },
  {
   "cell_type": "code",
   "execution_count": 1,
   "id": "ad493499",
   "metadata": {
    "scrolled": false
   },
   "outputs": [],
   "source": [
    "# Install yelpapi\n",
    "#!pip install yelpapi"
   ]
  },
  {
   "cell_type": "markdown",
   "id": "9424250e",
   "metadata": {},
   "source": [
    "### Install TQDM"
   ]
  },
  {
   "cell_type": "code",
   "execution_count": 2,
   "id": "9670a6d9",
   "metadata": {
    "scrolled": false
   },
   "outputs": [],
   "source": [
    "# Install tqdm_notebook\n",
    "#!pip install tqdm"
   ]
  },
  {
   "cell_type": "code",
   "execution_count": 3,
   "id": "b30c66eb",
   "metadata": {},
   "outputs": [],
   "source": [
    "# Importing .json file in .secret folder & others\n",
    "import numpy as np\n",
    "import pandas as pd\n",
    "import matplotlib.pyplot as plt\n",
    "import seaborn as sns\n",
    "# Additional Imports\n",
    "\n",
    "import os, json, math, time\n",
    "\n",
    "# Importing YelpAPI\n",
    "from yelpapi import YelpAPI\n",
    "\n",
    "# Importing tqdm notebook\n",
    "from tqdm.notebook import tqdm_notebook"
   ]
  },
  {
   "cell_type": "code",
   "execution_count": 4,
   "id": "6af293bf",
   "metadata": {},
   "outputs": [
    {
     "data": {
      "text/plain": [
       "dict_keys(['client-id', 'api-key'])"
      ]
     },
     "execution_count": 4,
     "metadata": {},
     "output_type": "execute_result"
    }
   ],
   "source": [
    "# Open .json file\n",
    "with open('/Users/njfor/.secret/yelp_api.json') as f:\n",
    "    login = json.load(f)\n",
    "login.keys()"
   ]
  },
  {
   "cell_type": "code",
   "execution_count": 5,
   "id": "bd8bd71f",
   "metadata": {},
   "outputs": [
    {
     "data": {
      "text/plain": [
       "<yelpapi.yelpapi.YelpAPI at 0x19591e06130>"
      ]
     },
     "execution_count": 5,
     "metadata": {},
     "output_type": "execute_result"
    }
   ],
   "source": [
    "# Create & Run yelp_api\n",
    "yelp_api = YelpAPI(login['api-key'], timeout_s=5.0)\n",
    "yelp_api"
   ]
  },
  {
   "cell_type": "code",
   "execution_count": 6,
   "id": "023a1144",
   "metadata": {},
   "outputs": [
    {
     "name": "stdout",
     "output_type": "stream",
     "text": [
      "<class 'dict'>\n"
     ]
    },
    {
     "data": {
      "text/plain": [
       "dict_keys(['businesses', 'total', 'region'])"
      ]
     },
     "execution_count": 6,
     "metadata": {},
     "output_type": "execute_result"
    }
   ],
   "source": [
    "# Quick Test Query\n",
    "results = yelp_api.search_query(location='Boston, MA',\n",
    "                               term='Lobster Roll')\n",
    "print(type(results))\n",
    "results.keys()"
   ]
  },
  {
   "cell_type": "markdown",
   "id": "71062a34",
   "metadata": {},
   "source": [
    "### Define Search"
   ]
  },
  {
   "cell_type": "code",
   "execution_count": 7,
   "id": "b30e7456",
   "metadata": {},
   "outputs": [],
   "source": [
    "# set API call parameters\n",
    "LOCATION = 'Boston,MA'\n",
    "TERM = 'Lobster Roll'"
   ]
  },
  {
   "cell_type": "code",
   "execution_count": 8,
   "id": "c4563aaf",
   "metadata": {},
   "outputs": [
    {
     "data": {
      "text/plain": [
       "'Data/results_in_progress_BOS_lobroll.json'"
      ]
     },
     "execution_count": 8,
     "metadata": {},
     "output_type": "execute_result"
    }
   ],
   "source": [
    "# Specifying JSON_FILE filename (can include a folder)\n",
    "# include the search terms in the filename\n",
    "JSON_FILE = \"Data/results_in_progress_BOS_lobroll.json\"\n",
    "JSON_FILE"
   ]
  },
  {
   "cell_type": "markdown",
   "id": "861d07e7",
   "metadata": {},
   "source": [
    "## Check if file already exists"
   ]
  },
  {
   "cell_type": "code",
   "execution_count": 9,
   "id": "32fbe9a7",
   "metadata": {},
   "outputs": [
    {
     "name": "stdout",
     "output_type": "stream",
     "text": [
      "[i] Data/results_in_progress_BOS_lobroll.json not found. Saving empty list to file.\n"
     ]
    }
   ],
   "source": [
    "# Check if JSON_FILE exists\n",
    "file_exists = os.path.isfile(JSON_FILE)\n",
    "## If it does not exist:\n",
    "if file_exists ==False:\n",
    "    \n",
    "    ## CREATE ANY NEEDED FOLDERS\n",
    "    # Get the Folder Name ONLYl!\n",
    "    folder = os.path.dirname(JSON_FILE)\n",
    "    ## If JSON_FILE included a folder:\n",
    "    if len(folder)>0:\n",
    "    # Create the folder if the length is > 0\n",
    "        os.makedirs(folder, exist_ok=True)\n",
    "    \n",
    "    ## INFORM USER & SAVE EMPTY LIST\n",
    "    print(f'[i] {JSON_FILE} not found. Saving empty list to file.')\n",
    "    \n",
    "    # save an empty list\n",
    "    with open(JSON_FILE, 'w') as f:\n",
    "        json.dump([],f)\n",
    "    \n",
    "# If it exists, inform user\n",
    "else:\n",
    "    print(f\"[i] {JSON_FILE} already exists.\")"
   ]
  },
  {
   "cell_type": "markdown",
   "id": "3fb90295",
   "metadata": {},
   "source": [
    "## Determine how many results are already in the file"
   ]
  },
  {
   "cell_type": "code",
   "execution_count": 10,
   "id": "0a4df01a",
   "metadata": {},
   "outputs": [
    {
     "name": "stdout",
     "output_type": "stream",
     "text": [
      "` 0 previous results found.\n"
     ]
    }
   ],
   "source": [
    "## Load previous results & use len (length) of results for offset\n",
    "with open(JSON_FILE,'r') as f:\n",
    "    previous_results = json.load(f)\n",
    "    \n",
    "## set offset based on previous results\n",
    "n_results = len(previous_results)\n",
    "print(f'` {n_results} previous results found.')"
   ]
  },
  {
   "cell_type": "code",
   "execution_count": 11,
   "id": "396f0c11",
   "metadata": {},
   "outputs": [
    {
     "data": {
      "text/plain": [
       "dict_keys(['businesses', 'total', 'region'])"
      ]
     },
     "execution_count": 11,
     "metadata": {},
     "output_type": "execute_result"
    }
   ],
   "source": [
    "# Use our yelp_api variable's search query method to perform our API call\n",
    "results = yelp_api.search_query(location=LOCATION,\n",
    "                               term=TERM,\n",
    "                               offset=n_results)\n",
    "results.keys()"
   ]
  },
  {
   "cell_type": "code",
   "execution_count": 12,
   "id": "e6cc4bac",
   "metadata": {},
   "outputs": [
    {
     "data": {
      "text/plain": [
       "1400"
      ]
     },
     "execution_count": 12,
     "metadata": {},
     "output_type": "execute_result"
    }
   ],
   "source": [
    "## How many results total?\n",
    "total_results = results['total']\n",
    "total_results"
   ]
  },
  {
   "cell_type": "code",
   "execution_count": 13,
   "id": "f8913276",
   "metadata": {},
   "outputs": [
    {
     "data": {
      "text/plain": [
       "20"
      ]
     },
     "execution_count": 13,
     "metadata": {},
     "output_type": "execute_result"
    }
   ],
   "source": [
    "## How many did we get the details for?\n",
    "results_per_page = len(results['businesses'])\n",
    "results_per_page"
   ]
  },
  {
   "cell_type": "code",
   "execution_count": 14,
   "id": "4c0c828a",
   "metadata": {},
   "outputs": [
    {
     "data": {
      "text/plain": [
       "70"
      ]
     },
     "execution_count": 14,
     "metadata": {},
     "output_type": "execute_result"
    }
   ],
   "source": [
    "# Use math.ceil to round up for the total number of pages of results.\n",
    "n_pages = math.ceil((results['total']-n_results)/ results_per_page)\n",
    "n_pages"
   ]
  },
  {
   "cell_type": "markdown",
   "id": "7e2ab62d",
   "metadata": {},
   "source": [
    "## Add results_per_page to .json file"
   ]
  },
  {
   "cell_type": "code",
   "execution_count": 15,
   "id": "950ffb3e",
   "metadata": {},
   "outputs": [],
   "source": [
    "previous_results.extend(results['businesses'])\n",
    "with open(JSON_FILE, 'w') as f:\n",
    "    json.dump(previous_results, f)"
   ]
  },
  {
   "cell_type": "markdown",
   "id": "c0902374",
   "metadata": {},
   "source": [
    "### Set up a progress bar in our for loop"
   ]
  },
  {
   "cell_type": "code",
   "execution_count": 16,
   "id": "057a7cdf",
   "metadata": {},
   "outputs": [
    {
     "data": {
      "application/vnd.jupyter.widget-view+json": {
       "model_id": "c0ed5af5a33d42869036be0771eb48fe",
       "version_major": 2,
       "version_minor": 0
      },
      "text/plain": [
       "  0%|          | 0/70 [00:00<?, ?it/s]"
      ]
     },
     "metadata": {},
     "output_type": "display_data"
    }
   ],
   "source": [
    "# for loop to create a progress bar\n",
    "for i in tqdm_notebook(range(n_pages)):\n",
    "    # adds 200 millisecond pause\n",
    "    time.sleep(.2)"
   ]
  },
  {
   "cell_type": "markdown",
   "id": "d9975296",
   "metadata": {},
   "source": [
    "### Create a for loop to call each page"
   ]
  },
  {
   "cell_type": "code",
   "execution_count": 19,
   "id": "afacc26a",
   "metadata": {},
   "outputs": [
    {
     "data": {
      "text/plain": [
       "False"
      ]
     },
     "execution_count": 19,
     "metadata": {},
     "output_type": "execute_result"
    }
   ],
   "source": [
    "## delete previous_results file & confirm it no longer exists\n",
    "os.remove(JSON_FILE)\n",
    "os.path.isfile(JSON_FILE)"
   ]
  },
  {
   "cell_type": "code",
   "execution_count": 20,
   "id": "3b56423c",
   "metadata": {},
   "outputs": [],
   "source": [
    "## The file is deleted & no longer exists."
   ]
  },
  {
   "cell_type": "code",
   "execution_count": 21,
   "id": "7faa9ee1",
   "metadata": {},
   "outputs": [],
   "source": [
    "def create_json_file(JSON_FILE,  delete_if_exists=False):\n",
    "    \n",
    "    ## Check if JSON_FILE exists\n",
    "    file_exists = os.path.isfile(JSON_FILE)\n",
    "    \n",
    "    ## If it DOES exist:\n",
    "    if file_exists == True:\n",
    "        \n",
    "        ## Check if user wants to delete if exists\n",
    "        if delete_if_exists==True:\n",
    "            \n",
    "            print(f\"[!] {JSON_FILE} already exists. Deleting previous file...\")\n",
    "            ## delete file and confirm it no longer exits.\n",
    "            os.remove(JSON_FILE)\n",
    "            ## Recursive call to function after old file deleted\n",
    "            create_json_file(JSON_FILE,delete_if_exists=False)\n",
    "        else:\n",
    "            print(f\"[i] {JSON_FILE} already exists.\")            \n",
    "            \n",
    "            \n",
    "    ## If it does NOT exist:\n",
    "    else:\n",
    "        \n",
    "        ## INFORM USER AND SAVE EMPTY LIST\n",
    "        print(f\"[i] {JSON_FILE} not found. Saving empty list to new file.\")\n",
    "        \n",
    "        ## CREATE ANY NEEDED FOLDERS\n",
    "        # Get the Folder Name only\n",
    "        folder = os.path.dirname(JSON_FILE)\n",
    "        \n",
    "        ## If JSON_FILE included a folder:\n",
    "        if len(folder)>0:\n",
    "            # create the folder\n",
    "            os.makedirs(folder,exist_ok=True)\n",
    "        ## Save empty list to start the json file\n",
    "        with open(JSON_FILE,'w') as f:\n",
    "            json.dump([],f)  "
   ]
  },
  {
   "cell_type": "code",
   "execution_count": 22,
   "id": "fac47c17",
   "metadata": {},
   "outputs": [
    {
     "name": "stdout",
     "output_type": "stream",
     "text": [
      "[i] Data/results_in_progress_BOS_lobroll.json not found. Saving empty list to new file.\n",
      "- 0 previous results found.\n"
     ]
    },
    {
     "data": {
      "text/plain": [
       "70"
      ]
     },
     "execution_count": 22,
     "metadata": {},
     "output_type": "execute_result"
    }
   ],
   "source": [
    "## Create new JSON FILE\n",
    "## Create a new empty json file (exist the previous if it exists)\n",
    "create_json_file(JSON_FILE, delete_if_exists=True)\n",
    "## Load previous results and use len of results for offset\n",
    "with open(JSON_FILE,'r') as f:\n",
    "    previous_results = json.load(f)\n",
    "    \n",
    "## set offset based on previous results\n",
    "n_results = len(previous_results)\n",
    "print(f'- {n_results} previous results found.')\n",
    "# use our yelp_api variable's search_query method to perform our API call\n",
    "results = yelp_api.search_query(location=LOCATION,\n",
    "                                term=TERM,\n",
    "                               offset=n_results)\n",
    "## How many results total?\n",
    "total_results = results['total']\n",
    "## How many did we get the details for?\n",
    "results_per_page = len(results['businesses'])\n",
    "# Use math.ceil to round up for the total number of pages of results.\n",
    "n_pages = math.ceil((results['total']-n_results)/ results_per_page)\n",
    "n_pages"
   ]
  },
  {
   "cell_type": "markdown",
   "id": "ef050206",
   "metadata": {},
   "source": [
    "## for loop that stops if exceeds 1000 api calls"
   ]
  },
  {
   "cell_type": "code",
   "execution_count": 23,
   "id": "9aa1bad3",
   "metadata": {},
   "outputs": [
    {
     "data": {
      "application/vnd.jupyter.widget-view+json": {
       "model_id": "54edaadebd25457eb164896a0b70796c",
       "version_major": 2,
       "version_minor": 0
      },
      "text/plain": [
       "  0%|          | 0/70 [00:00<?, ?it/s]"
      ]
     },
     "metadata": {},
     "output_type": "display_data"
    },
    {
     "name": "stdout",
     "output_type": "stream",
     "text": [
      "Exceeded 1000 api calls. Stopping loop.\n"
     ]
    }
   ],
   "source": [
    "for i in tqdm_notebook( range(1,n_pages+1)):\n",
    "    \n",
    "    ## Read in results in progress file and check the length\n",
    "    with open(JSON_FILE, 'r') as f:\n",
    "        previous_results = json.load(f)\n",
    "    ## save number of results for to use as offset\n",
    "    n_results = len(previous_results)\n",
    "    \n",
    "    if (n_results + results_per_page) > 1000:\n",
    "        print('Exceeded 1000 api calls. Stopping loop.')\n",
    "        break\n",
    "    \n",
    "    ## use n_results as the OFFSET \n",
    "    results = yelp_api.search_query(location=LOCATION,\n",
    "                                    term=TERM, \n",
    "                                    offset=n_results)\n",
    "    \n",
    "    \n",
    "    \n",
    "    ## append new results and save to file\n",
    "    previous_results.extend(results['businesses'])\n",
    "    \n",
    "    # display(previous_results)\n",
    "    with open(JSON_FILE,'w') as f:\n",
    "        json.dump(previous_results,f)\n",
    "    \n",
    "    time.sleep(.2)"
   ]
  },
  {
   "cell_type": "markdown",
   "id": "13c18942",
   "metadata": {},
   "source": [
    "# Convert .json to pandas dataframe"
   ]
  },
  {
   "cell_type": "code",
   "execution_count": 24,
   "id": "072c63e4",
   "metadata": {},
   "outputs": [
    {
     "data": {
      "text/html": [
       "<div>\n",
       "<style scoped>\n",
       "    .dataframe tbody tr th:only-of-type {\n",
       "        vertical-align: middle;\n",
       "    }\n",
       "\n",
       "    .dataframe tbody tr th {\n",
       "        vertical-align: top;\n",
       "    }\n",
       "\n",
       "    .dataframe thead th {\n",
       "        text-align: right;\n",
       "    }\n",
       "</style>\n",
       "<table border=\"1\" class=\"dataframe\">\n",
       "  <thead>\n",
       "    <tr style=\"text-align: right;\">\n",
       "      <th></th>\n",
       "      <th>id</th>\n",
       "      <th>alias</th>\n",
       "      <th>name</th>\n",
       "      <th>image_url</th>\n",
       "      <th>is_closed</th>\n",
       "      <th>url</th>\n",
       "      <th>review_count</th>\n",
       "      <th>categories</th>\n",
       "      <th>rating</th>\n",
       "      <th>coordinates</th>\n",
       "      <th>transactions</th>\n",
       "      <th>price</th>\n",
       "      <th>location</th>\n",
       "      <th>phone</th>\n",
       "      <th>display_phone</th>\n",
       "      <th>distance</th>\n",
       "    </tr>\n",
       "  </thead>\n",
       "  <tbody>\n",
       "    <tr>\n",
       "      <th>0</th>\n",
       "      <td>HEaQQAH6qyFXamKkpil91A</td>\n",
       "      <td>paulis-boston</td>\n",
       "      <td>Pauli's</td>\n",
       "      <td>https://s3-media2.fl.yelpcdn.com/bphoto/9hiaqb...</td>\n",
       "      <td>False</td>\n",
       "      <td>https://www.yelp.com/biz/paulis-boston?adjust_...</td>\n",
       "      <td>1405</td>\n",
       "      <td>[{'alias': 'sandwiches', 'title': 'Sandwiches'...</td>\n",
       "      <td>4.5</td>\n",
       "      <td>{'latitude': 42.363244212396, 'longitude': -71...</td>\n",
       "      <td>[pickup, delivery]</td>\n",
       "      <td>$$</td>\n",
       "      <td>{'address1': '65 Salem St', 'address2': None, ...</td>\n",
       "      <td>+18572847064</td>\n",
       "      <td>(857) 284-7064</td>\n",
       "      <td>5623.058982</td>\n",
       "    </tr>\n",
       "    <tr>\n",
       "      <th>1</th>\n",
       "      <td>i6uHrxuS1D_6V8WhaWLy5A</td>\n",
       "      <td>lukes-lobster-back-bay-boston</td>\n",
       "      <td>Luke's Lobster Back Bay</td>\n",
       "      <td>https://s3-media1.fl.yelpcdn.com/bphoto/EnMeIE...</td>\n",
       "      <td>False</td>\n",
       "      <td>https://www.yelp.com/biz/lukes-lobster-back-ba...</td>\n",
       "      <td>1988</td>\n",
       "      <td>[{'alias': 'seafood', 'title': 'Seafood'}, {'a...</td>\n",
       "      <td>4.0</td>\n",
       "      <td>{'latitude': 42.34869123638961, 'longitude': -...</td>\n",
       "      <td>[pickup, delivery]</td>\n",
       "      <td>$$</td>\n",
       "      <td>{'address1': '75 Exeter Street', 'address2': '...</td>\n",
       "      <td>+18573504626</td>\n",
       "      <td>(857) 350-4626</td>\n",
       "      <td>4407.684543</td>\n",
       "    </tr>\n",
       "    <tr>\n",
       "      <th>2</th>\n",
       "      <td>xkLwAfgIYXYHzJF8C_fhCA</td>\n",
       "      <td>tonys-clam-shop-quincy</td>\n",
       "      <td>Tony's Clam Shop</td>\n",
       "      <td>https://s3-media2.fl.yelpcdn.com/bphoto/fuctCw...</td>\n",
       "      <td>False</td>\n",
       "      <td>https://www.yelp.com/biz/tonys-clam-shop-quinc...</td>\n",
       "      <td>685</td>\n",
       "      <td>[{'alias': 'seafood', 'title': 'Seafood'}, {'a...</td>\n",
       "      <td>4.0</td>\n",
       "      <td>{'latitude': 42.27524349415289, 'longitude': -...</td>\n",
       "      <td>[]</td>\n",
       "      <td>$$</td>\n",
       "      <td>{'address1': '861 Quincy Shore Dr', 'address2'...</td>\n",
       "      <td>+16177735090</td>\n",
       "      <td>(617) 773-5090</td>\n",
       "      <td>5899.108532</td>\n",
       "    </tr>\n",
       "    <tr>\n",
       "      <th>3</th>\n",
       "      <td>y2w6rFaO0XEiG5mFfOsiFA</td>\n",
       "      <td>neptune-oyster-boston</td>\n",
       "      <td>Neptune Oyster</td>\n",
       "      <td>https://s3-media4.fl.yelpcdn.com/bphoto/qzU7C1...</td>\n",
       "      <td>False</td>\n",
       "      <td>https://www.yelp.com/biz/neptune-oyster-boston...</td>\n",
       "      <td>5924</td>\n",
       "      <td>[{'alias': 'seafood', 'title': 'Seafood'}, {'a...</td>\n",
       "      <td>4.5</td>\n",
       "      <td>{'latitude': 42.36321, 'longitude': -71.05594}</td>\n",
       "      <td>[delivery]</td>\n",
       "      <td>$$$</td>\n",
       "      <td>{'address1': '63 Salem St', 'address2': '', 'a...</td>\n",
       "      <td>+16177423474</td>\n",
       "      <td>(617) 742-3474</td>\n",
       "      <td>5622.373454</td>\n",
       "    </tr>\n",
       "    <tr>\n",
       "      <th>4</th>\n",
       "      <td>h4Un3Tw0yKn7uCLseO7Bvg</td>\n",
       "      <td>yankee-lobster-boston</td>\n",
       "      <td>Yankee Lobster</td>\n",
       "      <td>https://s3-media2.fl.yelpcdn.com/bphoto/f7Y0dH...</td>\n",
       "      <td>False</td>\n",
       "      <td>https://www.yelp.com/biz/yankee-lobster-boston...</td>\n",
       "      <td>2040</td>\n",
       "      <td>[{'alias': 'seafoodmarkets', 'title': 'Seafood...</td>\n",
       "      <td>4.0</td>\n",
       "      <td>{'latitude': 42.347825689583885, 'longitude': ...</td>\n",
       "      <td>[pickup, delivery]</td>\n",
       "      <td>$$</td>\n",
       "      <td>{'address1': '300 Northern Ave', 'address2': '...</td>\n",
       "      <td>+16173459799</td>\n",
       "      <td>(617) 345-9799</td>\n",
       "      <td>4268.375988</td>\n",
       "    </tr>\n",
       "  </tbody>\n",
       "</table>\n",
       "</div>"
      ],
      "text/plain": [
       "                       id                          alias  \\\n",
       "0  HEaQQAH6qyFXamKkpil91A                  paulis-boston   \n",
       "1  i6uHrxuS1D_6V8WhaWLy5A  lukes-lobster-back-bay-boston   \n",
       "2  xkLwAfgIYXYHzJF8C_fhCA         tonys-clam-shop-quincy   \n",
       "3  y2w6rFaO0XEiG5mFfOsiFA          neptune-oyster-boston   \n",
       "4  h4Un3Tw0yKn7uCLseO7Bvg          yankee-lobster-boston   \n",
       "\n",
       "                      name                                          image_url  \\\n",
       "0                  Pauli's  https://s3-media2.fl.yelpcdn.com/bphoto/9hiaqb...   \n",
       "1  Luke's Lobster Back Bay  https://s3-media1.fl.yelpcdn.com/bphoto/EnMeIE...   \n",
       "2         Tony's Clam Shop  https://s3-media2.fl.yelpcdn.com/bphoto/fuctCw...   \n",
       "3           Neptune Oyster  https://s3-media4.fl.yelpcdn.com/bphoto/qzU7C1...   \n",
       "4           Yankee Lobster  https://s3-media2.fl.yelpcdn.com/bphoto/f7Y0dH...   \n",
       "\n",
       "   is_closed                                                url  review_count  \\\n",
       "0      False  https://www.yelp.com/biz/paulis-boston?adjust_...          1405   \n",
       "1      False  https://www.yelp.com/biz/lukes-lobster-back-ba...          1988   \n",
       "2      False  https://www.yelp.com/biz/tonys-clam-shop-quinc...           685   \n",
       "3      False  https://www.yelp.com/biz/neptune-oyster-boston...          5924   \n",
       "4      False  https://www.yelp.com/biz/yankee-lobster-boston...          2040   \n",
       "\n",
       "                                          categories  rating  \\\n",
       "0  [{'alias': 'sandwiches', 'title': 'Sandwiches'...     4.5   \n",
       "1  [{'alias': 'seafood', 'title': 'Seafood'}, {'a...     4.0   \n",
       "2  [{'alias': 'seafood', 'title': 'Seafood'}, {'a...     4.0   \n",
       "3  [{'alias': 'seafood', 'title': 'Seafood'}, {'a...     4.5   \n",
       "4  [{'alias': 'seafoodmarkets', 'title': 'Seafood...     4.0   \n",
       "\n",
       "                                         coordinates        transactions  \\\n",
       "0  {'latitude': 42.363244212396, 'longitude': -71...  [pickup, delivery]   \n",
       "1  {'latitude': 42.34869123638961, 'longitude': -...  [pickup, delivery]   \n",
       "2  {'latitude': 42.27524349415289, 'longitude': -...                  []   \n",
       "3     {'latitude': 42.36321, 'longitude': -71.05594}          [delivery]   \n",
       "4  {'latitude': 42.347825689583885, 'longitude': ...  [pickup, delivery]   \n",
       "\n",
       "  price                                           location         phone  \\\n",
       "0    $$  {'address1': '65 Salem St', 'address2': None, ...  +18572847064   \n",
       "1    $$  {'address1': '75 Exeter Street', 'address2': '...  +18573504626   \n",
       "2    $$  {'address1': '861 Quincy Shore Dr', 'address2'...  +16177735090   \n",
       "3   $$$  {'address1': '63 Salem St', 'address2': '', 'a...  +16177423474   \n",
       "4    $$  {'address1': '300 Northern Ave', 'address2': '...  +16173459799   \n",
       "\n",
       "    display_phone     distance  \n",
       "0  (857) 284-7064  5623.058982  \n",
       "1  (857) 350-4626  4407.684543  \n",
       "2  (617) 773-5090  5899.108532  \n",
       "3  (617) 742-3474  5622.373454  \n",
       "4  (617) 345-9799  4268.375988  "
      ]
     },
     "metadata": {},
     "output_type": "display_data"
    },
    {
     "data": {
      "text/html": [
       "<div>\n",
       "<style scoped>\n",
       "    .dataframe tbody tr th:only-of-type {\n",
       "        vertical-align: middle;\n",
       "    }\n",
       "\n",
       "    .dataframe tbody tr th {\n",
       "        vertical-align: top;\n",
       "    }\n",
       "\n",
       "    .dataframe thead th {\n",
       "        text-align: right;\n",
       "    }\n",
       "</style>\n",
       "<table border=\"1\" class=\"dataframe\">\n",
       "  <thead>\n",
       "    <tr style=\"text-align: right;\">\n",
       "      <th></th>\n",
       "      <th>id</th>\n",
       "      <th>alias</th>\n",
       "      <th>name</th>\n",
       "      <th>image_url</th>\n",
       "      <th>is_closed</th>\n",
       "      <th>url</th>\n",
       "      <th>review_count</th>\n",
       "      <th>categories</th>\n",
       "      <th>rating</th>\n",
       "      <th>coordinates</th>\n",
       "      <th>transactions</th>\n",
       "      <th>price</th>\n",
       "      <th>location</th>\n",
       "      <th>phone</th>\n",
       "      <th>display_phone</th>\n",
       "      <th>distance</th>\n",
       "    </tr>\n",
       "  </thead>\n",
       "  <tbody>\n",
       "    <tr>\n",
       "      <th>995</th>\n",
       "      <td>4Th4Au8kRlL_uEXR-PeayA</td>\n",
       "      <td>sweet-rice-jp-boston</td>\n",
       "      <td>Sweet Rice JP</td>\n",
       "      <td>https://s3-media1.fl.yelpcdn.com/bphoto/RhonMr...</td>\n",
       "      <td>False</td>\n",
       "      <td>https://www.yelp.com/biz/sweet-rice-jp-boston?...</td>\n",
       "      <td>131</td>\n",
       "      <td>[{'alias': 'thai', 'title': 'Thai'}, {'alias':...</td>\n",
       "      <td>4.0</td>\n",
       "      <td>{'latitude': 42.31182, 'longitude': -71.11454}</td>\n",
       "      <td>[delivery, pickup]</td>\n",
       "      <td>$$</td>\n",
       "      <td>{'address1': '697 Centre St', 'address2': None...</td>\n",
       "      <td>+16179422324</td>\n",
       "      <td>(617) 942-2324</td>\n",
       "      <td>4743.570827</td>\n",
       "    </tr>\n",
       "    <tr>\n",
       "      <th>996</th>\n",
       "      <td>mTyK9-_6CYY6XYAG56c68Q</td>\n",
       "      <td>carrie-nation-cocktail-club-boston-2</td>\n",
       "      <td>Carrie Nation Cocktail Club</td>\n",
       "      <td>https://s3-media2.fl.yelpcdn.com/bphoto/0b9ilW...</td>\n",
       "      <td>False</td>\n",
       "      <td>https://www.yelp.com/biz/carrie-nation-cocktai...</td>\n",
       "      <td>370</td>\n",
       "      <td>[{'alias': 'tradamerican', 'title': 'American ...</td>\n",
       "      <td>3.5</td>\n",
       "      <td>{'latitude': 42.35846, 'longitude': -71.061772}</td>\n",
       "      <td>[delivery, pickup]</td>\n",
       "      <td>$$</td>\n",
       "      <td>{'address1': '11 Beacon St', 'address2': '', '...</td>\n",
       "      <td>+16172273100</td>\n",
       "      <td>(617) 227-3100</td>\n",
       "      <td>5106.974234</td>\n",
       "    </tr>\n",
       "    <tr>\n",
       "      <th>997</th>\n",
       "      <td>uYqizPy4eUSpwOha0RkVPg</td>\n",
       "      <td>no-9-park-boston</td>\n",
       "      <td>No. 9 Park</td>\n",
       "      <td>https://s3-media3.fl.yelpcdn.com/bphoto/q0HGQ7...</td>\n",
       "      <td>False</td>\n",
       "      <td>https://www.yelp.com/biz/no-9-park-boston?adju...</td>\n",
       "      <td>734</td>\n",
       "      <td>[{'alias': 'french', 'title': 'French'}, {'ali...</td>\n",
       "      <td>4.0</td>\n",
       "      <td>{'latitude': 42.357619051741864, 'longitude': ...</td>\n",
       "      <td>[delivery]</td>\n",
       "      <td>$$$$</td>\n",
       "      <td>{'address1': '9 Park St', 'address2': '', 'add...</td>\n",
       "      <td>+16177429991</td>\n",
       "      <td>(617) 742-9991</td>\n",
       "      <td>5021.289426</td>\n",
       "    </tr>\n",
       "    <tr>\n",
       "      <th>998</th>\n",
       "      <td>3UHLX26d_iPERGVzxfVLXQ</td>\n",
       "      <td>four-spoons-thai-inspired-cuisine-and-bar-newton</td>\n",
       "      <td>Four Spoons Thai Inspired Cuisine &amp; Bar</td>\n",
       "      <td>https://s3-media1.fl.yelpcdn.com/bphoto/B7bSB5...</td>\n",
       "      <td>False</td>\n",
       "      <td>https://www.yelp.com/biz/four-spoons-thai-insp...</td>\n",
       "      <td>185</td>\n",
       "      <td>[{'alias': 'thai', 'title': 'Thai'}, {'alias':...</td>\n",
       "      <td>4.0</td>\n",
       "      <td>{'latitude': 42.33008, 'longitude': -71.19348}</td>\n",
       "      <td>[delivery, pickup]</td>\n",
       "      <td>$$</td>\n",
       "      <td>{'address1': '796 Beacon St', 'address2': '', ...</td>\n",
       "      <td>+16173325888</td>\n",
       "      <td>(617) 332-5888</td>\n",
       "      <td>11405.553510</td>\n",
       "    </tr>\n",
       "    <tr>\n",
       "      <th>999</th>\n",
       "      <td>ALlXdnPBDoJY3NM-5iawLg</td>\n",
       "      <td>stoneforge-grill-south-easton</td>\n",
       "      <td>Stoneforge Grill</td>\n",
       "      <td>https://s3-media4.fl.yelpcdn.com/bphoto/dfPwY4...</td>\n",
       "      <td>False</td>\n",
       "      <td>https://www.yelp.com/biz/stoneforge-grill-sout...</td>\n",
       "      <td>249</td>\n",
       "      <td>[{'alias': 'tradamerican', 'title': 'American ...</td>\n",
       "      <td>3.0</td>\n",
       "      <td>{'latitude': 42.051126, 'longitude': -71.085041}</td>\n",
       "      <td>[delivery, pickup]</td>\n",
       "      <td>$$</td>\n",
       "      <td>{'address1': '10 Roosevelt Cir', 'address2': '...</td>\n",
       "      <td>+15082380550</td>\n",
       "      <td>(508) 238-0550</td>\n",
       "      <td>29175.978920</td>\n",
       "    </tr>\n",
       "  </tbody>\n",
       "</table>\n",
       "</div>"
      ],
      "text/plain": [
       "                         id                                             alias  \\\n",
       "995  4Th4Au8kRlL_uEXR-PeayA                              sweet-rice-jp-boston   \n",
       "996  mTyK9-_6CYY6XYAG56c68Q              carrie-nation-cocktail-club-boston-2   \n",
       "997  uYqizPy4eUSpwOha0RkVPg                                  no-9-park-boston   \n",
       "998  3UHLX26d_iPERGVzxfVLXQ  four-spoons-thai-inspired-cuisine-and-bar-newton   \n",
       "999  ALlXdnPBDoJY3NM-5iawLg                     stoneforge-grill-south-easton   \n",
       "\n",
       "                                        name  \\\n",
       "995                            Sweet Rice JP   \n",
       "996              Carrie Nation Cocktail Club   \n",
       "997                               No. 9 Park   \n",
       "998  Four Spoons Thai Inspired Cuisine & Bar   \n",
       "999                         Stoneforge Grill   \n",
       "\n",
       "                                             image_url  is_closed  \\\n",
       "995  https://s3-media1.fl.yelpcdn.com/bphoto/RhonMr...      False   \n",
       "996  https://s3-media2.fl.yelpcdn.com/bphoto/0b9ilW...      False   \n",
       "997  https://s3-media3.fl.yelpcdn.com/bphoto/q0HGQ7...      False   \n",
       "998  https://s3-media1.fl.yelpcdn.com/bphoto/B7bSB5...      False   \n",
       "999  https://s3-media4.fl.yelpcdn.com/bphoto/dfPwY4...      False   \n",
       "\n",
       "                                                   url  review_count  \\\n",
       "995  https://www.yelp.com/biz/sweet-rice-jp-boston?...           131   \n",
       "996  https://www.yelp.com/biz/carrie-nation-cocktai...           370   \n",
       "997  https://www.yelp.com/biz/no-9-park-boston?adju...           734   \n",
       "998  https://www.yelp.com/biz/four-spoons-thai-insp...           185   \n",
       "999  https://www.yelp.com/biz/stoneforge-grill-sout...           249   \n",
       "\n",
       "                                            categories  rating  \\\n",
       "995  [{'alias': 'thai', 'title': 'Thai'}, {'alias':...     4.0   \n",
       "996  [{'alias': 'tradamerican', 'title': 'American ...     3.5   \n",
       "997  [{'alias': 'french', 'title': 'French'}, {'ali...     4.0   \n",
       "998  [{'alias': 'thai', 'title': 'Thai'}, {'alias':...     4.0   \n",
       "999  [{'alias': 'tradamerican', 'title': 'American ...     3.0   \n",
       "\n",
       "                                           coordinates        transactions  \\\n",
       "995     {'latitude': 42.31182, 'longitude': -71.11454}  [delivery, pickup]   \n",
       "996    {'latitude': 42.35846, 'longitude': -71.061772}  [delivery, pickup]   \n",
       "997  {'latitude': 42.357619051741864, 'longitude': ...          [delivery]   \n",
       "998     {'latitude': 42.33008, 'longitude': -71.19348}  [delivery, pickup]   \n",
       "999   {'latitude': 42.051126, 'longitude': -71.085041}  [delivery, pickup]   \n",
       "\n",
       "    price                                           location         phone  \\\n",
       "995    $$  {'address1': '697 Centre St', 'address2': None...  +16179422324   \n",
       "996    $$  {'address1': '11 Beacon St', 'address2': '', '...  +16172273100   \n",
       "997  $$$$  {'address1': '9 Park St', 'address2': '', 'add...  +16177429991   \n",
       "998    $$  {'address1': '796 Beacon St', 'address2': '', ...  +16173325888   \n",
       "999    $$  {'address1': '10 Roosevelt Cir', 'address2': '...  +15082380550   \n",
       "\n",
       "      display_phone      distance  \n",
       "995  (617) 942-2324   4743.570827  \n",
       "996  (617) 227-3100   5106.974234  \n",
       "997  (617) 742-9991   5021.289426  \n",
       "998  (617) 332-5888  11405.553510  \n",
       "999  (508) 238-0550  29175.978920  "
      ]
     },
     "metadata": {},
     "output_type": "display_data"
    }
   ],
   "source": [
    "# load final results\n",
    "final_df = pd.read_json(JSON_FILE)\n",
    "display(final_df.head(), final_df.tail())"
   ]
  },
  {
   "cell_type": "markdown",
   "id": "ace09d77",
   "metadata": {},
   "source": [
    "## Check & remove any dupes"
   ]
  },
  {
   "cell_type": "code",
   "execution_count": 26,
   "id": "e9afe2b5",
   "metadata": {},
   "outputs": [
    {
     "data": {
      "text/plain": [
       "1"
      ]
     },
     "execution_count": 26,
     "metadata": {},
     "output_type": "execute_result"
    }
   ],
   "source": [
    "# check for duplicate results\n",
    "final_df.duplicated(subset='id').sum()"
   ]
  },
  {
   "cell_type": "code",
   "execution_count": 27,
   "id": "87243938",
   "metadata": {},
   "outputs": [
    {
     "data": {
      "text/plain": [
       "0"
      ]
     },
     "execution_count": 27,
     "metadata": {},
     "output_type": "execute_result"
    }
   ],
   "source": [
    "# drop the dupes & sanity-check\n",
    "final_df = final_df.drop_duplicates(subset='id')\n",
    "final_df.duplicated(subset='id').sum()"
   ]
  },
  {
   "cell_type": "markdown",
   "id": "6fb6aaff",
   "metadata": {},
   "source": [
    "## Save final_df to a .csv file or .csv.gz"
   ]
  },
  {
   "cell_type": "code",
   "execution_count": 28,
   "id": "f6a97ec4",
   "metadata": {},
   "outputs": [],
   "source": [
    "# save the final results to a compressed csv (.csv.gz)\n",
    "final_df.to_csv('Data/final_results_BOS_lobroll.csv.gz', compression='gzip', index=False)"
   ]
  }
 ],
 "metadata": {
  "kernelspec": {
   "display_name": "Python (dojo-env)",
   "language": "python",
   "name": "dojo-env"
  },
  "language_info": {
   "codemirror_mode": {
    "name": "ipython",
    "version": 3
   },
   "file_extension": ".py",
   "mimetype": "text/x-python",
   "name": "python",
   "nbconvert_exporter": "python",
   "pygments_lexer": "ipython3",
   "version": "3.9.15"
  },
  "toc": {
   "base_numbering": 1,
   "nav_menu": {},
   "number_sections": false,
   "sideBar": true,
   "skip_h1_title": false,
   "title_cell": "Table of Contents",
   "title_sidebar": "Contents",
   "toc_cell": false,
   "toc_position": {},
   "toc_section_display": true,
   "toc_window_display": false
  }
 },
 "nbformat": 4,
 "nbformat_minor": 5
}
