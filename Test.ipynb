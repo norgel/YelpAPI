{
 "cells": [
  {
   "cell_type": "markdown",
   "id": "c7bdc599",
   "metadata": {},
   "source": [
    "### Install yelpapi"
   ]
  },
  {
   "cell_type": "code",
   "execution_count": 1,
   "id": "ad493499",
   "metadata": {
    "scrolled": false
   },
   "outputs": [],
   "source": [
    "# Install yelpapi\n",
    "#!pip install yelpapi"
   ]
  },
  {
   "cell_type": "markdown",
   "id": "9424250e",
   "metadata": {},
   "source": [
    "### Install TQDM"
   ]
  },
  {
   "cell_type": "code",
   "execution_count": 2,
   "id": "9670a6d9",
   "metadata": {
    "scrolled": false
   },
   "outputs": [],
   "source": [
    "# Install tqdm_notebook\n",
    "#!pip install tqdm"
   ]
  },
  {
   "cell_type": "code",
   "execution_count": 3,
   "id": "b30c66eb",
   "metadata": {},
   "outputs": [],
   "source": [
    "# Importing .json file in .secret folder & others\n",
    "import numpy as np\n",
    "import pandas as pd\n",
    "import matplotlib.pyplot as plt\n",
    "import seaborn as sns\n",
    "# Additional Imports\n",
    "\n",
    "import os, json, math, time\n",
    "\n",
    "# Importing YelpAPI\n",
    "from yelpapi import YelpAPI\n",
    "\n",
    "# Importing tqdm notebook\n",
    "from tqdm.notebook import tqdm_notebook"
   ]
  },
  {
   "cell_type": "code",
   "execution_count": 4,
   "id": "6af293bf",
   "metadata": {},
   "outputs": [
    {
     "data": {
      "text/plain": [
       "dict_keys(['client-id', 'api-key'])"
      ]
     },
     "execution_count": 4,
     "metadata": {},
     "output_type": "execute_result"
    }
   ],
   "source": [
    "# Open .json file\n",
    "with open('/Users/njfor/.secret/yelp_api.json') as f:\n",
    "    login = json.load(f)\n",
    "login.keys()"
   ]
  },
  {
   "cell_type": "code",
   "execution_count": 5,
   "id": "bd8bd71f",
   "metadata": {},
   "outputs": [
    {
     "data": {
      "text/plain": [
       "<yelpapi.yelpapi.YelpAPI at 0x271a6087d60>"
      ]
     },
     "execution_count": 5,
     "metadata": {},
     "output_type": "execute_result"
    }
   ],
   "source": [
    "# Create & Run yelp_api\n",
    "yelp_api = YelpAPI(login['api-key'], timeout_s=5.0)\n",
    "yelp_api"
   ]
  },
  {
   "cell_type": "code",
   "execution_count": 6,
   "id": "023a1144",
   "metadata": {},
   "outputs": [
    {
     "name": "stdout",
     "output_type": "stream",
     "text": [
      "<class 'dict'>\n"
     ]
    },
    {
     "data": {
      "text/plain": [
       "dict_keys(['businesses', 'total', 'region'])"
      ]
     },
     "execution_count": 6,
     "metadata": {},
     "output_type": "execute_result"
    }
   ],
   "source": [
    "# Quick Test Query\n",
    "results = yelp_api.search_query(location='Boston, MA',\n",
    "                               term='Lobster Roll')\n",
    "print(type(results))\n",
    "results.keys()"
   ]
  },
  {
   "cell_type": "markdown",
   "id": "71062a34",
   "metadata": {},
   "source": [
    "### Define Search"
   ]
  },
  {
   "cell_type": "code",
   "execution_count": 7,
   "id": "b30e7456",
   "metadata": {},
   "outputs": [],
   "source": [
    "# set API call parameters\n",
    "LOCATION = 'Boston,MA'\n",
    "TERM = 'Lobster Roll'"
   ]
  },
  {
   "cell_type": "code",
   "execution_count": 8,
   "id": "c4563aaf",
   "metadata": {},
   "outputs": [
    {
     "data": {
      "text/plain": [
       "'Data/results_in_progress_BOS_lobroll.json'"
      ]
     },
     "execution_count": 8,
     "metadata": {},
     "output_type": "execute_result"
    }
   ],
   "source": [
    "# Specifying JSON_FILE filename (can include a folder)\n",
    "# include the search terms in the filename\n",
    "JSON_FILE = \"Data/results_in_progress_BOS_lobroll.json\"\n",
    "JSON_FILE"
   ]
  },
  {
   "cell_type": "markdown",
   "id": "861d07e7",
   "metadata": {},
   "source": [
    "## Check if file already exists"
   ]
  },
  {
   "cell_type": "code",
   "execution_count": 9,
   "id": "32fbe9a7",
   "metadata": {},
   "outputs": [
    {
     "name": "stdout",
     "output_type": "stream",
     "text": [
      "[i] Data/results_in_progress_BOS_lobroll.json already exists.\n"
     ]
    }
   ],
   "source": [
    "# Check if JSON_FILE exists\n",
    "file_exists = os.path.isfile(JSON_FILE)\n",
    "## If it does not exist:\n",
    "if file_exists ==False:\n",
    "    \n",
    "    ## CREATE ANY NEEDED FOLDERS\n",
    "    # Get the Folder Name ONLYl!\n",
    "    folder = os.path.dirname(JSON_FILE)\n",
    "    ## If JSON_FILE included a folder:\n",
    "    if len(folder)>0:\n",
    "    # Create the folder if the length is > 0\n",
    "        os.makedirs(folder, exist_ok=True)\n",
    "    \n",
    "    ## INFORM USER & SAVE EMPTY LIST\n",
    "    print(f'[i] {JSON_FILE} not found. Saving empty list to file.')\n",
    "    \n",
    "    # save an empty list\n",
    "    with open(JSON_FILE, 'w') as f:\n",
    "        json.dump([],f)\n",
    "    \n",
    "# If it exists, inform user\n",
    "else:\n",
    "    print(f\"[i] {JSON_FILE} already exists.\")"
   ]
  },
  {
   "cell_type": "markdown",
   "id": "3fb90295",
   "metadata": {},
   "source": [
    "## Determine how many results are already in the file"
   ]
  },
  {
   "cell_type": "code",
   "execution_count": 10,
   "id": "0a4df01a",
   "metadata": {},
   "outputs": [
    {
     "name": "stdout",
     "output_type": "stream",
     "text": [
      "` 0 previous results found.\n"
     ]
    }
   ],
   "source": [
    "## Load previous results & use len (length) of results for offset\n",
    "with open(JSON_FILE,'r') as f:\n",
    "    previous_results = json.load(f)\n",
    "    \n",
    "## set offset based on previous results\n",
    "n_results = len(previous_results)\n",
    "print(f'` {n_results} previous results found.')"
   ]
  },
  {
   "cell_type": "code",
   "execution_count": 11,
   "id": "396f0c11",
   "metadata": {},
   "outputs": [
    {
     "data": {
      "text/plain": [
       "dict_keys(['businesses', 'total', 'region'])"
      ]
     },
     "execution_count": 11,
     "metadata": {},
     "output_type": "execute_result"
    }
   ],
   "source": [
    "# Use our yelp_api variable's search query method to perform our API call\n",
    "results = yelp_api.search_query(location=LOCATION,\n",
    "                               term=TERM,\n",
    "                               offset=n_results)\n",
    "results.keys()"
   ]
  },
  {
   "cell_type": "code",
   "execution_count": 12,
   "id": "e6cc4bac",
   "metadata": {},
   "outputs": [
    {
     "data": {
      "text/plain": [
       "1400"
      ]
     },
     "execution_count": 12,
     "metadata": {},
     "output_type": "execute_result"
    }
   ],
   "source": [
    "## How many results total?\n",
    "total_results = results['total']\n",
    "total_results"
   ]
  },
  {
   "cell_type": "code",
   "execution_count": 14,
   "id": "f8913276",
   "metadata": {},
   "outputs": [
    {
     "data": {
      "text/plain": [
       "20"
      ]
     },
     "execution_count": 14,
     "metadata": {},
     "output_type": "execute_result"
    }
   ],
   "source": [
    "## How many did we get the details for?\n",
    "results_per_page = len(results['businesses'])\n",
    "results_per_page"
   ]
  }
 ],
 "metadata": {
  "kernelspec": {
   "display_name": "Python (dojo-env)",
   "language": "python",
   "name": "dojo-env"
  },
  "language_info": {
   "codemirror_mode": {
    "name": "ipython",
    "version": 3
   },
   "file_extension": ".py",
   "mimetype": "text/x-python",
   "name": "python",
   "nbconvert_exporter": "python",
   "pygments_lexer": "ipython3",
   "version": "3.9.15"
  },
  "toc": {
   "base_numbering": 1,
   "nav_menu": {},
   "number_sections": false,
   "sideBar": true,
   "skip_h1_title": false,
   "title_cell": "Table of Contents",
   "title_sidebar": "Contents",
   "toc_cell": false,
   "toc_position": {},
   "toc_section_display": true,
   "toc_window_display": false
  }
 },
 "nbformat": 4,
 "nbformat_minor": 5
}
